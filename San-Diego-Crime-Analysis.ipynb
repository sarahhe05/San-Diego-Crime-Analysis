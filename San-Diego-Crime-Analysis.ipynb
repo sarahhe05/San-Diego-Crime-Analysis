{
 "cells": [
  {
   "cell_type": "code",
   "execution_count": 50,
   "id": "b7f55c8c-178f-4e4d-a791-0a920c8f6f24",
   "metadata": {},
   "outputs": [],
   "source": [
    "import pandas as pd\n",
    "from zipfile import ZipFile\n",
    "import seaborn as sns \n",
    "import matplotlib.pyplot as plt"
   ]
  },
  {
   "cell_type": "code",
   "execution_count": 2,
   "id": "1534958f-4b7e-44db-9ec2-102b3d776261",
   "metadata": {},
   "outputs": [],
   "source": [
    "ZipFile(\"pd_nibrs_datasd.csv.zip\").extractall()"
   ]
  },
  {
   "cell_type": "code",
   "execution_count": 3,
   "id": "0326b12c-cce1-4354-aa6a-e76971e41e45",
   "metadata": {},
   "outputs": [],
   "source": [
    "df = pd.read_csv('pd_nibrs_datasd.csv', low_memory=False)"
   ]
  },
  {
   "cell_type": "code",
   "execution_count": 4,
   "id": "01c26dfb-1f2d-4b6c-9f13-d096337ab87b",
   "metadata": {},
   "outputs": [],
   "source": [
    "crimes_df = df.get(['case_number', 'occured_on', 'pd_offense_category', 'neighborhood', 'division', 'city', 'latitude', 'longitude'])"
   ]
  },
  {
   "cell_type": "code",
   "execution_count": 5,
   "id": "d8d89d9f-2eaa-4dff-a332-a11d8d712e1f",
   "metadata": {},
   "outputs": [],
   "source": [
    "crimes_df = crimes_df[crimes_df['pd_offense_category'] != 'All Other Offenses']"
   ]
  },
  {
   "cell_type": "code",
   "execution_count": 6,
   "id": "2bd33055-5bde-4315-9b8b-caa1d27243c1",
   "metadata": {},
   "outputs": [
    {
     "data": {
      "text/html": [
       "<div>\n",
       "<style scoped>\n",
       "    .dataframe tbody tr th:only-of-type {\n",
       "        vertical-align: middle;\n",
       "    }\n",
       "\n",
       "    .dataframe tbody tr th {\n",
       "        vertical-align: top;\n",
       "    }\n",
       "\n",
       "    .dataframe thead th {\n",
       "        text-align: right;\n",
       "    }\n",
       "</style>\n",
       "<table border=\"1\" class=\"dataframe\">\n",
       "  <thead>\n",
       "    <tr style=\"text-align: right;\">\n",
       "      <th></th>\n",
       "      <th>case_number</th>\n",
       "      <th>occured_on</th>\n",
       "      <th>pd_offense_category</th>\n",
       "      <th>neighborhood</th>\n",
       "      <th>division</th>\n",
       "      <th>city</th>\n",
       "      <th>latitude</th>\n",
       "      <th>longitude</th>\n",
       "    </tr>\n",
       "  </thead>\n",
       "  <tbody>\n",
       "    <tr>\n",
       "      <th>1</th>\n",
       "      <td>22701933</td>\n",
       "      <td>2022-02-11 22:00:00</td>\n",
       "      <td>Theft From Motor Vehicle</td>\n",
       "      <td>Mira Mesa</td>\n",
       "      <td>Northeastern</td>\n",
       "      <td>SAN DIEGO</td>\n",
       "      <td>32.901073</td>\n",
       "      <td>-117.120120</td>\n",
       "    </tr>\n",
       "    <tr>\n",
       "      <th>2</th>\n",
       "      <td>21020993</td>\n",
       "      <td>2021-05-02 06:00:00</td>\n",
       "      <td>Simple Assault</td>\n",
       "      <td>Midway District</td>\n",
       "      <td>Western</td>\n",
       "      <td>SAN DIEGO</td>\n",
       "      <td>32.754899</td>\n",
       "      <td>-117.206022</td>\n",
       "    </tr>\n",
       "    <tr>\n",
       "      <th>3</th>\n",
       "      <td>22041849</td>\n",
       "      <td>2022-09-21 12:46:21</td>\n",
       "      <td>Aggravated Assault</td>\n",
       "      <td>Unknown</td>\n",
       "      <td>Unknown</td>\n",
       "      <td>Mecca</td>\n",
       "      <td>NaN</td>\n",
       "      <td>NaN</td>\n",
       "    </tr>\n",
       "    <tr>\n",
       "      <th>4</th>\n",
       "      <td>21001415</td>\n",
       "      <td>2021-01-09 11:23:00</td>\n",
       "      <td>Stolen Property Offenses</td>\n",
       "      <td>Egger Highlands</td>\n",
       "      <td>Southern</td>\n",
       "      <td>CHULA VISTA</td>\n",
       "      <td>32.605965</td>\n",
       "      <td>-117.088752</td>\n",
       "    </tr>\n",
       "    <tr>\n",
       "      <th>5</th>\n",
       "      <td>23009256</td>\n",
       "      <td>2023-03-04 01:04:00</td>\n",
       "      <td>Motor Vehicle Theft</td>\n",
       "      <td>Rolando</td>\n",
       "      <td>Mid-City</td>\n",
       "      <td>SAN DIEGO</td>\n",
       "      <td>32.759579</td>\n",
       "      <td>-117.055797</td>\n",
       "    </tr>\n",
       "  </tbody>\n",
       "</table>\n",
       "</div>"
      ],
      "text/plain": [
       "  case_number           occured_on       pd_offense_category     neighborhood  \\\n",
       "1    22701933  2022-02-11 22:00:00  Theft From Motor Vehicle        Mira Mesa   \n",
       "2    21020993  2021-05-02 06:00:00            Simple Assault  Midway District   \n",
       "3    22041849  2022-09-21 12:46:21        Aggravated Assault          Unknown   \n",
       "4    21001415  2021-01-09 11:23:00  Stolen Property Offenses  Egger Highlands   \n",
       "5    23009256  2023-03-04 01:04:00       Motor Vehicle Theft          Rolando   \n",
       "\n",
       "       division         city   latitude   longitude  \n",
       "1  Northeastern    SAN DIEGO  32.901073 -117.120120  \n",
       "2       Western    SAN DIEGO  32.754899 -117.206022  \n",
       "3       Unknown        Mecca        NaN         NaN  \n",
       "4      Southern  CHULA VISTA  32.605965 -117.088752  \n",
       "5      Mid-City    SAN DIEGO  32.759579 -117.055797  "
      ]
     },
     "execution_count": 6,
     "metadata": {},
     "output_type": "execute_result"
    }
   ],
   "source": [
    "crimes_df.head()"
   ]
  },
  {
   "cell_type": "code",
   "execution_count": 44,
   "id": "28f05794",
   "metadata": {},
   "outputs": [],
   "source": [
    "nh = crimes_df.groupby('neighborhood').count().sort_values(by='case_number', ascending=False).rename(columns={'case_number':'Number of Crimes'})[0:5]"
   ]
  },
  {
   "cell_type": "code",
   "execution_count": 57,
   "id": "9144fce4-4254-4e15-b965-fa24a84f3172",
   "metadata": {},
   "outputs": [
    {
     "data": {
      "image/png": "[encoded data removed]",
      "text/plain": [
       "<Figure size 640x480 with 1 Axes>"
      ]
     },
     "metadata": {},
     "output_type": "display_data"
    }
   ],
   "source": [
    "sns.barplot(data = nh, x = nh.index, y = 'Number of Crimes')\n",
    "plt.xticks(fontsize=8) \n",
    "plt.show()"
   ]
  },
  {
   "cell_type": "code",
   "execution_count": null,
   "id": "99ebcd3a",
   "metadata": {},
   "outputs": [],
   "source": []
  }
 ],
 "metadata": {
  "kernelspec": {
   "display_name": "Python 3 (ipykernel)",
   "language": "python",
   "name": "python3"
  },
  "language_info": {
   "codemirror_mode": {
    "name": "ipython",
    "version": 3
   },
   "file_extension": ".py",
   "mimetype": "text/x-python",
   "name": "python",
   "nbconvert_exporter": "python",
   "pygments_lexer": "ipython3",
   "version": "3.11.4"
  }
 },
 "nbformat": 4,
 "nbformat_minor": 5
}
